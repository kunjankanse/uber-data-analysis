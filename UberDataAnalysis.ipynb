{
 "cells": [
  {
   "cell_type": "code",
   "execution_count": 1,
   "id": "26cc0a2a-f6c7-4830-8e94-e2aca0930b9d",
   "metadata": {},
   "outputs": [],
   "source": [
    "import numpy as np\n",
    "import pandas as pd\n",
    "import matplotlib.pyplot as plt\n",
    "import seaborn as sns"
   ]
  },
  {
   "cell_type": "code",
   "execution_count": 2,
   "id": "40f8f64d-fe26-4624-b46a-0a66c65abd56",
   "metadata": {},
   "outputs": [
    {
     "name": "stdout",
     "output_type": "stream",
     "text": [
      " Volume in drive C is Windows\n",
      " Volume Serial Number is 666A-2AE9\n",
      "\n",
      " Directory of C:\\Users\\hp\\Documents\\data analysis project\n",
      "\n",
      "08/08/2025  03:20 PM    <DIR>          .\n",
      "08/08/2025  03:15 PM    <DIR>          ..\n",
      "08/08/2025  03:16 PM    <DIR>          .ipynb_checkpoints\n",
      "08/08/2025  03:00 PM            11,269 Uber Data Analysis.ipynb\n",
      "08/08/2025  03:00 PM            87,540 UberDataset.csv\n",
      "08/08/2025  03:20 PM               758 Untitled.ipynb\n",
      "               3 File(s)         99,567 bytes\n",
      "               3 Dir(s)  44,551,802,880 bytes free\n"
     ]
    }
   ],
   "source": [
    "ls"
   ]
  },
  {
   "cell_type": "code",
   "execution_count": 3,
   "id": "7be4b487-83a4-42f1-a03b-17ad7f02610a",
   "metadata": {},
   "outputs": [],
   "source": [
    "df = pd.read_csv(\"UberDataset.csv\")"
   ]
  },
  {
   "cell_type": "code",
   "execution_count": 4,
   "id": "447bfd67-bdac-4ea9-ae74-2d3969dc2681",
   "metadata": {},
   "outputs": [
    {
     "data": {
      "text/html": [
       "<div>\n",
       "<style scoped>\n",
       "    .dataframe tbody tr th:only-of-type {\n",
       "        vertical-align: middle;\n",
       "    }\n",
       "\n",
       "    .dataframe tbody tr th {\n",
       "        vertical-align: top;\n",
       "    }\n",
       "\n",
       "    .dataframe thead th {\n",
       "        text-align: right;\n",
       "    }\n",
       "</style>\n",
       "<table border=\"1\" class=\"dataframe\">\n",
       "  <thead>\n",
       "    <tr style=\"text-align: right;\">\n",
       "      <th></th>\n",
       "      <th>START_DATE</th>\n",
       "      <th>END_DATE</th>\n",
       "      <th>CATEGORY</th>\n",
       "      <th>START</th>\n",
       "      <th>STOP</th>\n",
       "      <th>MILES</th>\n",
       "      <th>PURPOSE</th>\n",
       "    </tr>\n",
       "  </thead>\n",
       "  <tbody>\n",
       "    <tr>\n",
       "      <th>0</th>\n",
       "      <td>01-01-2016 21.11</td>\n",
       "      <td>01-01-2016 21.17</td>\n",
       "      <td>Business</td>\n",
       "      <td>Fort Pierce</td>\n",
       "      <td>Fort Pierce</td>\n",
       "      <td>5.1</td>\n",
       "      <td>Meal/Entertain</td>\n",
       "    </tr>\n",
       "    <tr>\n",
       "      <th>1</th>\n",
       "      <td>01-02-2016 1.25</td>\n",
       "      <td>01-02-2016 1.37</td>\n",
       "      <td>Business</td>\n",
       "      <td>Fort Pierce</td>\n",
       "      <td>Fort Pierce</td>\n",
       "      <td>5.0</td>\n",
       "      <td>NaN</td>\n",
       "    </tr>\n",
       "    <tr>\n",
       "      <th>2</th>\n",
       "      <td>01-02-2016 20.25</td>\n",
       "      <td>01-02-2016 20.38</td>\n",
       "      <td>Business</td>\n",
       "      <td>Fort Pierce</td>\n",
       "      <td>Fort Pierce</td>\n",
       "      <td>4.8</td>\n",
       "      <td>Errand/Supplies</td>\n",
       "    </tr>\n",
       "    <tr>\n",
       "      <th>3</th>\n",
       "      <td>01-05-2016 17.31</td>\n",
       "      <td>01-05-2016 17.45</td>\n",
       "      <td>Business</td>\n",
       "      <td>Fort Pierce</td>\n",
       "      <td>Fort Pierce</td>\n",
       "      <td>4.7</td>\n",
       "      <td>Meeting</td>\n",
       "    </tr>\n",
       "    <tr>\n",
       "      <th>4</th>\n",
       "      <td>01-06-2016 14.42</td>\n",
       "      <td>01-06-2016 15.49</td>\n",
       "      <td>Business</td>\n",
       "      <td>Fort Pierce</td>\n",
       "      <td>West Palm Beach</td>\n",
       "      <td>63.7</td>\n",
       "      <td>Customer Visit</td>\n",
       "    </tr>\n",
       "  </tbody>\n",
       "</table>\n",
       "</div>"
      ],
      "text/plain": [
       "         START_DATE          END_DATE  CATEGORY        START             STOP  \\\n",
       "0  01-01-2016 21.11  01-01-2016 21.17  Business  Fort Pierce      Fort Pierce   \n",
       "1   01-02-2016 1.25   01-02-2016 1.37  Business  Fort Pierce      Fort Pierce   \n",
       "2  01-02-2016 20.25  01-02-2016 20.38  Business  Fort Pierce      Fort Pierce   \n",
       "3  01-05-2016 17.31  01-05-2016 17.45  Business  Fort Pierce      Fort Pierce   \n",
       "4  01-06-2016 14.42  01-06-2016 15.49  Business  Fort Pierce  West Palm Beach   \n",
       "\n",
       "   MILES          PURPOSE  \n",
       "0    5.1   Meal/Entertain  \n",
       "1    5.0              NaN  \n",
       "2    4.8  Errand/Supplies  \n",
       "3    4.7          Meeting  \n",
       "4   63.7   Customer Visit  "
      ]
     },
     "execution_count": 4,
     "metadata": {},
     "output_type": "execute_result"
    }
   ],
   "source": [
    "df.head()"
   ]
  },
  {
   "cell_type": "code",
   "execution_count": 5,
   "id": "bccc3734-c3b4-491d-817e-3fcbf00257b4",
   "metadata": {},
   "outputs": [
    {
     "name": "stdout",
     "output_type": "stream",
     "text": [
      "<class 'pandas.core.frame.DataFrame'>\n",
      "RangeIndex: 1155 entries, 0 to 1154\n",
      "Data columns (total 7 columns):\n",
      " #   Column      Non-Null Count  Dtype  \n",
      "---  ------      --------------  -----  \n",
      " 0   START_DATE  1155 non-null   object \n",
      " 1   END_DATE    1155 non-null   object \n",
      " 2   CATEGORY    1155 non-null   object \n",
      " 3   START       1155 non-null   object \n",
      " 4   STOP        1155 non-null   object \n",
      " 5   MILES       1155 non-null   float64\n",
      " 6   PURPOSE     653 non-null    object \n",
      "dtypes: float64(1), object(6)\n",
      "memory usage: 63.3+ KB\n"
     ]
    }
   ],
   "source": [
    "df.info()"
   ]
  },
  {
   "cell_type": "code",
   "execution_count": 6,
   "id": "e2b06521-892c-4e34-9627-f9a65e687cd6",
   "metadata": {},
   "outputs": [],
   "source": [
    "df['START_DATE'] = df['START_DATE'].apply(\n",
    "    lambda x: x.replace(\".\",\":\")\n",
    ")"
   ]
  },
  {
   "cell_type": "code",
   "execution_count": 8,
   "id": "f4ce06e3-b0b9-44c5-9984-9c49209cb598",
   "metadata": {},
   "outputs": [],
   "source": [
    "df['START_DATE'] = df['START_DATE'].apply(\n",
    "    lambda x: x.replace(\"/\",\"-\")\n",
    ")"
   ]
  },
  {
   "cell_type": "code",
   "execution_count": 9,
   "id": "400e5207-8c58-4705-80d5-1f1da43d5886",
   "metadata": {},
   "outputs": [
    {
     "data": {
      "text/html": [
       "<div>\n",
       "<style scoped>\n",
       "    .dataframe tbody tr th:only-of-type {\n",
       "        vertical-align: middle;\n",
       "    }\n",
       "\n",
       "    .dataframe tbody tr th {\n",
       "        vertical-align: top;\n",
       "    }\n",
       "\n",
       "    .dataframe thead th {\n",
       "        text-align: right;\n",
       "    }\n",
       "</style>\n",
       "<table border=\"1\" class=\"dataframe\">\n",
       "  <thead>\n",
       "    <tr style=\"text-align: right;\">\n",
       "      <th></th>\n",
       "      <th>START_DATE</th>\n",
       "      <th>END_DATE</th>\n",
       "      <th>CATEGORY</th>\n",
       "      <th>START</th>\n",
       "      <th>STOP</th>\n",
       "      <th>MILES</th>\n",
       "      <th>PURPOSE</th>\n",
       "    </tr>\n",
       "  </thead>\n",
       "  <tbody>\n",
       "    <tr>\n",
       "      <th>431</th>\n",
       "      <td>06-12-2016 19:53</td>\n",
       "      <td>06-12-2016 19.56</td>\n",
       "      <td>Business</td>\n",
       "      <td>Cary</td>\n",
       "      <td>Morrisville</td>\n",
       "      <td>2.5</td>\n",
       "      <td>Meal/Entertain</td>\n",
       "    </tr>\n",
       "    <tr>\n",
       "      <th>1122</th>\n",
       "      <td>12-27-2016 14:49</td>\n",
       "      <td>12/27/2016 15:03</td>\n",
       "      <td>Business</td>\n",
       "      <td>Kar?chi</td>\n",
       "      <td>Unknown Location</td>\n",
       "      <td>3.1</td>\n",
       "      <td>Customer Visit</td>\n",
       "    </tr>\n",
       "    <tr>\n",
       "      <th>118</th>\n",
       "      <td>2-17-2016 15:17</td>\n",
       "      <td>2/17/2016 15:22</td>\n",
       "      <td>Business</td>\n",
       "      <td>Colombo</td>\n",
       "      <td>Colombo</td>\n",
       "      <td>1.7</td>\n",
       "      <td>Meal/Entertain</td>\n",
       "    </tr>\n",
       "    <tr>\n",
       "      <th>920</th>\n",
       "      <td>11-08-2016 13:41</td>\n",
       "      <td>11-08-2016 14.01</td>\n",
       "      <td>Business</td>\n",
       "      <td>Berkeley</td>\n",
       "      <td>Emeryville</td>\n",
       "      <td>3.6</td>\n",
       "      <td>NaN</td>\n",
       "    </tr>\n",
       "    <tr>\n",
       "      <th>176</th>\n",
       "      <td>03-01-2016 18:47</td>\n",
       "      <td>03-01-2016 19.10</td>\n",
       "      <td>Business</td>\n",
       "      <td>Whitebridge</td>\n",
       "      <td>Wayne Ridge</td>\n",
       "      <td>8.0</td>\n",
       "      <td>Meal/Entertain</td>\n",
       "    </tr>\n",
       "    <tr>\n",
       "      <th>221</th>\n",
       "      <td>3-13-2016 20:39</td>\n",
       "      <td>3/13/2016 20:58</td>\n",
       "      <td>Business</td>\n",
       "      <td>The Drag</td>\n",
       "      <td>North Austin</td>\n",
       "      <td>10.5</td>\n",
       "      <td>Meal/Entertain</td>\n",
       "    </tr>\n",
       "    <tr>\n",
       "      <th>761</th>\n",
       "      <td>9-16-2016 7:08</td>\n",
       "      <td>9/16/2016 7:08</td>\n",
       "      <td>Business</td>\n",
       "      <td>Unknown Location</td>\n",
       "      <td>Unknown Location</td>\n",
       "      <td>1.6</td>\n",
       "      <td>NaN</td>\n",
       "    </tr>\n",
       "    <tr>\n",
       "      <th>1076</th>\n",
       "      <td>12-20-2016 16:14</td>\n",
       "      <td>12/20/2016 16:24</td>\n",
       "      <td>Business</td>\n",
       "      <td>Islamabad</td>\n",
       "      <td>Islamabad</td>\n",
       "      <td>1.8</td>\n",
       "      <td>Errand/Supplies</td>\n",
       "    </tr>\n",
       "    <tr>\n",
       "      <th>405</th>\n",
       "      <td>06-05-2016 21:53</td>\n",
       "      <td>06-05-2016 22.05</td>\n",
       "      <td>Business</td>\n",
       "      <td>Cary</td>\n",
       "      <td>Durham</td>\n",
       "      <td>9.9</td>\n",
       "      <td>Meeting</td>\n",
       "    </tr>\n",
       "    <tr>\n",
       "      <th>224</th>\n",
       "      <td>3-14-2016 8:34</td>\n",
       "      <td>3/14/2016 8:49</td>\n",
       "      <td>Business</td>\n",
       "      <td>The Drag</td>\n",
       "      <td>South Congress</td>\n",
       "      <td>2.0</td>\n",
       "      <td>Errand/Supplies</td>\n",
       "    </tr>\n",
       "  </tbody>\n",
       "</table>\n",
       "</div>"
      ],
      "text/plain": [
       "            START_DATE          END_DATE  CATEGORY             START  \\\n",
       "431   06-12-2016 19:53  06-12-2016 19.56  Business              Cary   \n",
       "1122  12-27-2016 14:49  12/27/2016 15:03  Business           Kar?chi   \n",
       "118    2-17-2016 15:17   2/17/2016 15:22  Business           Colombo   \n",
       "920   11-08-2016 13:41  11-08-2016 14.01  Business          Berkeley   \n",
       "176   03-01-2016 18:47  03-01-2016 19.10  Business       Whitebridge   \n",
       "221    3-13-2016 20:39   3/13/2016 20:58  Business          The Drag   \n",
       "761     9-16-2016 7:08    9/16/2016 7:08  Business  Unknown Location   \n",
       "1076  12-20-2016 16:14  12/20/2016 16:24  Business         Islamabad   \n",
       "405   06-05-2016 21:53  06-05-2016 22.05  Business              Cary   \n",
       "224     3-14-2016 8:34    3/14/2016 8:49  Business          The Drag   \n",
       "\n",
       "                  STOP  MILES          PURPOSE  \n",
       "431        Morrisville    2.5   Meal/Entertain  \n",
       "1122  Unknown Location    3.1   Customer Visit  \n",
       "118            Colombo    1.7   Meal/Entertain  \n",
       "920         Emeryville    3.6              NaN  \n",
       "176        Wayne Ridge    8.0   Meal/Entertain  \n",
       "221       North Austin   10.5   Meal/Entertain  \n",
       "761   Unknown Location    1.6              NaN  \n",
       "1076         Islamabad    1.8  Errand/Supplies  \n",
       "405             Durham    9.9          Meeting  \n",
       "224     South Congress    2.0  Errand/Supplies  "
      ]
     },
     "execution_count": 9,
     "metadata": {},
     "output_type": "execute_result"
    }
   ],
   "source": [
    "df.sample(10)"
   ]
  },
  {
   "cell_type": "code",
   "execution_count": 12,
   "id": "919b26ca-48c0-4699-86f5-5b643c7c398f",
   "metadata": {},
   "outputs": [],
   "source": [
    "df['START_DATE'] = pd.to_datetime(df['START_DATE'])"
   ]
  },
  {
   "cell_type": "code",
   "execution_count": 13,
   "id": "f2b8bc3e-edf2-4836-b100-c48696e8ddc2",
   "metadata": {},
   "outputs": [
    {
     "name": "stdout",
     "output_type": "stream",
     "text": [
      "<class 'pandas.core.frame.DataFrame'>\n",
      "RangeIndex: 1155 entries, 0 to 1154\n",
      "Data columns (total 7 columns):\n",
      " #   Column      Non-Null Count  Dtype         \n",
      "---  ------      --------------  -----         \n",
      " 0   START_DATE  1155 non-null   datetime64[ns]\n",
      " 1   END_DATE    1155 non-null   object        \n",
      " 2   CATEGORY    1155 non-null   object        \n",
      " 3   START       1155 non-null   object        \n",
      " 4   STOP        1155 non-null   object        \n",
      " 5   MILES       1155 non-null   float64       \n",
      " 6   PURPOSE     653 non-null    object        \n",
      "dtypes: datetime64[ns](1), float64(1), object(5)\n",
      "memory usage: 63.3+ KB\n"
     ]
    }
   ],
   "source": [
    "df.info()"
   ]
  },
  {
   "cell_type": "code",
   "execution_count": 14,
   "id": "1671dbe9-5544-4f4d-8cb6-b8f2351ac764",
   "metadata": {},
   "outputs": [],
   "source": [
    "df['END_DATE'] = pd.to_datetime(\n",
    "    df['END_DATE'].apply(\n",
    "        lambda x : x.replace(\".\",\":\").replace(\"/\",\"-\")\n",
    "    )\n",
    ")"
   ]
  },
  {
   "cell_type": "code",
   "execution_count": 16,
   "id": "aefd915e-ad46-4a10-a61c-7c0a49e1b246",
   "metadata": {},
   "outputs": [
    {
     "name": "stdout",
     "output_type": "stream",
     "text": [
      "<class 'pandas.core.frame.DataFrame'>\n",
      "RangeIndex: 1155 entries, 0 to 1154\n",
      "Data columns (total 7 columns):\n",
      " #   Column      Non-Null Count  Dtype         \n",
      "---  ------      --------------  -----         \n",
      " 0   START_DATE  1155 non-null   datetime64[ns]\n",
      " 1   END_DATE    1155 non-null   datetime64[ns]\n",
      " 2   CATEGORY    1155 non-null   object        \n",
      " 3   START       1155 non-null   object        \n",
      " 4   STOP        1155 non-null   object        \n",
      " 5   MILES       1155 non-null   float64       \n",
      " 6   PURPOSE     653 non-null    object        \n",
      "dtypes: datetime64[ns](2), float64(1), object(4)\n",
      "memory usage: 63.3+ KB\n"
     ]
    }
   ],
   "source": [
    "df.info()"
   ]
  },
  {
   "cell_type": "code",
   "execution_count": 18,
   "id": "d55dc9dd-0941-49f5-a079-2ce51833b90f",
   "metadata": {},
   "outputs": [],
   "source": [
    "#change column names to lower case\n",
    "#pass columns to a list\n",
    "\n",
    "old_name = list(df.columns)"
   ]
  },
  {
   "cell_type": "code",
   "execution_count": 19,
   "id": "9ed1862f-775b-45d3-b94a-9e153aa9c176",
   "metadata": {},
   "outputs": [
    {
     "data": {
      "text/plain": [
       "['start_date', 'end_date', 'category', 'start', 'stop', 'miles', 'purpose']"
      ]
     },
     "execution_count": 19,
     "metadata": {},
     "output_type": "execute_result"
    }
   ],
   "source": [
    "#create a new list and add the column names in lower case\n",
    "\n",
    "new_name = []\n",
    "for i in old_name:\n",
    "    new_name.append(i.lower())\n",
    "new_name"
   ]
  },
  {
   "cell_type": "code",
   "execution_count": 20,
   "id": "f7c910ab-10ef-4ed7-87a8-f08c73a37af2",
   "metadata": {},
   "outputs": [],
   "source": [
    "#update the column names according to new list\n",
    "\n",
    "df.columns = new_name"
   ]
  },
  {
   "cell_type": "code",
   "execution_count": 21,
   "id": "66977181-987c-4dbe-bbfd-835c4c3b4149",
   "metadata": {},
   "outputs": [
    {
     "data": {
      "text/html": [
       "<div>\n",
       "<style scoped>\n",
       "    .dataframe tbody tr th:only-of-type {\n",
       "        vertical-align: middle;\n",
       "    }\n",
       "\n",
       "    .dataframe tbody tr th {\n",
       "        vertical-align: top;\n",
       "    }\n",
       "\n",
       "    .dataframe thead th {\n",
       "        text-align: right;\n",
       "    }\n",
       "</style>\n",
       "<table border=\"1\" class=\"dataframe\">\n",
       "  <thead>\n",
       "    <tr style=\"text-align: right;\">\n",
       "      <th></th>\n",
       "      <th>start_date</th>\n",
       "      <th>end_date</th>\n",
       "      <th>category</th>\n",
       "      <th>start</th>\n",
       "      <th>stop</th>\n",
       "      <th>miles</th>\n",
       "      <th>purpose</th>\n",
       "    </tr>\n",
       "  </thead>\n",
       "  <tbody>\n",
       "    <tr>\n",
       "      <th>0</th>\n",
       "      <td>2016-01-01 21:11:00</td>\n",
       "      <td>2016-01-01 21:17:00</td>\n",
       "      <td>Business</td>\n",
       "      <td>Fort Pierce</td>\n",
       "      <td>Fort Pierce</td>\n",
       "      <td>5.1</td>\n",
       "      <td>Meal/Entertain</td>\n",
       "    </tr>\n",
       "    <tr>\n",
       "      <th>1</th>\n",
       "      <td>2016-01-02 01:25:00</td>\n",
       "      <td>2016-01-02 01:37:00</td>\n",
       "      <td>Business</td>\n",
       "      <td>Fort Pierce</td>\n",
       "      <td>Fort Pierce</td>\n",
       "      <td>5.0</td>\n",
       "      <td>NaN</td>\n",
       "    </tr>\n",
       "    <tr>\n",
       "      <th>2</th>\n",
       "      <td>2016-01-02 20:25:00</td>\n",
       "      <td>2016-01-02 20:38:00</td>\n",
       "      <td>Business</td>\n",
       "      <td>Fort Pierce</td>\n",
       "      <td>Fort Pierce</td>\n",
       "      <td>4.8</td>\n",
       "      <td>Errand/Supplies</td>\n",
       "    </tr>\n",
       "    <tr>\n",
       "      <th>3</th>\n",
       "      <td>2016-01-05 17:31:00</td>\n",
       "      <td>2016-01-05 17:45:00</td>\n",
       "      <td>Business</td>\n",
       "      <td>Fort Pierce</td>\n",
       "      <td>Fort Pierce</td>\n",
       "      <td>4.7</td>\n",
       "      <td>Meeting</td>\n",
       "    </tr>\n",
       "    <tr>\n",
       "      <th>4</th>\n",
       "      <td>2016-01-06 14:42:00</td>\n",
       "      <td>2016-01-06 15:49:00</td>\n",
       "      <td>Business</td>\n",
       "      <td>Fort Pierce</td>\n",
       "      <td>West Palm Beach</td>\n",
       "      <td>63.7</td>\n",
       "      <td>Customer Visit</td>\n",
       "    </tr>\n",
       "  </tbody>\n",
       "</table>\n",
       "</div>"
      ],
      "text/plain": [
       "           start_date            end_date  category        start  \\\n",
       "0 2016-01-01 21:11:00 2016-01-01 21:17:00  Business  Fort Pierce   \n",
       "1 2016-01-02 01:25:00 2016-01-02 01:37:00  Business  Fort Pierce   \n",
       "2 2016-01-02 20:25:00 2016-01-02 20:38:00  Business  Fort Pierce   \n",
       "3 2016-01-05 17:31:00 2016-01-05 17:45:00  Business  Fort Pierce   \n",
       "4 2016-01-06 14:42:00 2016-01-06 15:49:00  Business  Fort Pierce   \n",
       "\n",
       "              stop  miles          purpose  \n",
       "0      Fort Pierce    5.1   Meal/Entertain  \n",
       "1      Fort Pierce    5.0              NaN  \n",
       "2      Fort Pierce    4.8  Errand/Supplies  \n",
       "3      Fort Pierce    4.7          Meeting  \n",
       "4  West Palm Beach   63.7   Customer Visit  "
      ]
     },
     "execution_count": 21,
     "metadata": {},
     "output_type": "execute_result"
    }
   ],
   "source": [
    "df.head()"
   ]
  },
  {
   "cell_type": "code",
   "execution_count": 25,
   "id": "8bc0ad86-793a-4778-8763-bc459356df4c",
   "metadata": {},
   "outputs": [
    {
     "data": {
      "text/plain": [
       "0"
      ]
     },
     "execution_count": 25,
     "metadata": {},
     "output_type": "execute_result"
    }
   ],
   "source": [
    "#check number of duplicate rows\n",
    "df.duplicated().sum()"
   ]
  },
  {
   "cell_type": "code",
   "execution_count": 26,
   "id": "a28d97ea-21bb-4284-a65c-693f243dfcf7",
   "metadata": {},
   "outputs": [],
   "source": [
    "df.drop_duplicates(inplace=True)"
   ]
  },
  {
   "cell_type": "code",
   "execution_count": 27,
   "id": "82bfda89-3d78-47f4-9ef4-2b63de232e88",
   "metadata": {},
   "outputs": [
    {
     "data": {
      "text/plain": [
       "1154"
      ]
     },
     "execution_count": 27,
     "metadata": {},
     "output_type": "execute_result"
    }
   ],
   "source": [
    "#check number of rows\n",
    "df.shape[0]"
   ]
  },
  {
   "cell_type": "code",
   "execution_count": 29,
   "id": "440a7985-44eb-40d4-9933-b050c30b1729",
   "metadata": {},
   "outputs": [
    {
     "data": {
      "text/plain": [
       "10.57"
      ]
     },
     "execution_count": 29,
     "metadata": {},
     "output_type": "execute_result"
    }
   ],
   "source": [
    "#average trip distance in miles\n",
    "df['miles'].mean().round(2)"
   ]
  },
  {
   "cell_type": "code",
   "execution_count": 31,
   "id": "a7323819-77d6-4ad5-a090-7f0291338e89",
   "metadata": {},
   "outputs": [],
   "source": [
    "df['trip'] = df['start'] +\"-\"+ df['stop']"
   ]
  },
  {
   "cell_type": "code",
   "execution_count": 32,
   "id": "6f1b551f-69fc-471e-9bf5-dc9df312b2ca",
   "metadata": {},
   "outputs": [
    {
     "data": {
      "text/html": [
       "<div>\n",
       "<style scoped>\n",
       "    .dataframe tbody tr th:only-of-type {\n",
       "        vertical-align: middle;\n",
       "    }\n",
       "\n",
       "    .dataframe tbody tr th {\n",
       "        vertical-align: top;\n",
       "    }\n",
       "\n",
       "    .dataframe thead th {\n",
       "        text-align: right;\n",
       "    }\n",
       "</style>\n",
       "<table border=\"1\" class=\"dataframe\">\n",
       "  <thead>\n",
       "    <tr style=\"text-align: right;\">\n",
       "      <th></th>\n",
       "      <th>start_date</th>\n",
       "      <th>end_date</th>\n",
       "      <th>category</th>\n",
       "      <th>start</th>\n",
       "      <th>stop</th>\n",
       "      <th>miles</th>\n",
       "      <th>purpose</th>\n",
       "      <th>trip</th>\n",
       "    </tr>\n",
       "  </thead>\n",
       "  <tbody>\n",
       "    <tr>\n",
       "      <th>0</th>\n",
       "      <td>2016-01-01 21:11:00</td>\n",
       "      <td>2016-01-01 21:17:00</td>\n",
       "      <td>Business</td>\n",
       "      <td>Fort Pierce</td>\n",
       "      <td>Fort Pierce</td>\n",
       "      <td>5.1</td>\n",
       "      <td>Meal/Entertain</td>\n",
       "      <td>Fort Pierce-Fort Pierce</td>\n",
       "    </tr>\n",
       "    <tr>\n",
       "      <th>1</th>\n",
       "      <td>2016-01-02 01:25:00</td>\n",
       "      <td>2016-01-02 01:37:00</td>\n",
       "      <td>Business</td>\n",
       "      <td>Fort Pierce</td>\n",
       "      <td>Fort Pierce</td>\n",
       "      <td>5.0</td>\n",
       "      <td>NaN</td>\n",
       "      <td>Fort Pierce-Fort Pierce</td>\n",
       "    </tr>\n",
       "    <tr>\n",
       "      <th>2</th>\n",
       "      <td>2016-01-02 20:25:00</td>\n",
       "      <td>2016-01-02 20:38:00</td>\n",
       "      <td>Business</td>\n",
       "      <td>Fort Pierce</td>\n",
       "      <td>Fort Pierce</td>\n",
       "      <td>4.8</td>\n",
       "      <td>Errand/Supplies</td>\n",
       "      <td>Fort Pierce-Fort Pierce</td>\n",
       "    </tr>\n",
       "    <tr>\n",
       "      <th>3</th>\n",
       "      <td>2016-01-05 17:31:00</td>\n",
       "      <td>2016-01-05 17:45:00</td>\n",
       "      <td>Business</td>\n",
       "      <td>Fort Pierce</td>\n",
       "      <td>Fort Pierce</td>\n",
       "      <td>4.7</td>\n",
       "      <td>Meeting</td>\n",
       "      <td>Fort Pierce-Fort Pierce</td>\n",
       "    </tr>\n",
       "    <tr>\n",
       "      <th>4</th>\n",
       "      <td>2016-01-06 14:42:00</td>\n",
       "      <td>2016-01-06 15:49:00</td>\n",
       "      <td>Business</td>\n",
       "      <td>Fort Pierce</td>\n",
       "      <td>West Palm Beach</td>\n",
       "      <td>63.7</td>\n",
       "      <td>Customer Visit</td>\n",
       "      <td>Fort Pierce-West Palm Beach</td>\n",
       "    </tr>\n",
       "  </tbody>\n",
       "</table>\n",
       "</div>"
      ],
      "text/plain": [
       "           start_date            end_date  category        start  \\\n",
       "0 2016-01-01 21:11:00 2016-01-01 21:17:00  Business  Fort Pierce   \n",
       "1 2016-01-02 01:25:00 2016-01-02 01:37:00  Business  Fort Pierce   \n",
       "2 2016-01-02 20:25:00 2016-01-02 20:38:00  Business  Fort Pierce   \n",
       "3 2016-01-05 17:31:00 2016-01-05 17:45:00  Business  Fort Pierce   \n",
       "4 2016-01-06 14:42:00 2016-01-06 15:49:00  Business  Fort Pierce   \n",
       "\n",
       "              stop  miles          purpose                         trip  \n",
       "0      Fort Pierce    5.1   Meal/Entertain      Fort Pierce-Fort Pierce  \n",
       "1      Fort Pierce    5.0              NaN      Fort Pierce-Fort Pierce  \n",
       "2      Fort Pierce    4.8  Errand/Supplies      Fort Pierce-Fort Pierce  \n",
       "3      Fort Pierce    4.7          Meeting      Fort Pierce-Fort Pierce  \n",
       "4  West Palm Beach   63.7   Customer Visit  Fort Pierce-West Palm Beach  "
      ]
     },
     "execution_count": 32,
     "metadata": {},
     "output_type": "execute_result"
    }
   ],
   "source": [
    "df.head()"
   ]
  },
  {
   "cell_type": "code",
   "execution_count": 33,
   "id": "d6d2b913-5737-4f06-a0c8-ea36694c54c1",
   "metadata": {},
   "outputs": [
    {
     "data": {
      "text/plain": [
       "trip\n",
       "Unknown Location-Unknown Location    86\n",
       "Morrisville-Cary                     75\n",
       "Cary-Morrisville                     67\n",
       "Cary-Cary                            53\n",
       "Cary-Durham                          36\n",
       "                                     ..\n",
       "Chessington-Chessington               1\n",
       "Meredith Townes-Harden Place          1\n",
       "Cary-Holly Springs                    1\n",
       "Meredith-Cedar Hill                   1\n",
       "Gampaha-Ilukwatta                     1\n",
       "Name: count, Length: 363, dtype: int64"
      ]
     },
     "execution_count": 33,
     "metadata": {},
     "output_type": "execute_result"
    }
   ],
   "source": [
    "#most frequent start-stop trips\n",
    "\n",
    "df['trip'].value_counts()"
   ]
  },
  {
   "cell_type": "code",
   "execution_count": 38,
   "id": "80afb09e-66ad-4477-8903-b0439c7182bc",
   "metadata": {},
   "outputs": [
    {
     "data": {
      "text/plain": [
       "trip\n",
       "Morrisville-Cary    75\n",
       "Name: count, dtype: int64"
      ]
     },
     "execution_count": 38,
     "metadata": {},
     "output_type": "execute_result"
    }
   ],
   "source": [
    "#remove unknown location values from df\n",
    "\n",
    "df[~df['trip'].str.contains(\"Unknown Location\")]['trip'].value_counts().head(1)"
   ]
  },
  {
   "cell_type": "code",
   "execution_count": 44,
   "id": "ac3f7fe0-3bf6-4205-be40-0593b8a263dc",
   "metadata": {},
   "outputs": [
    {
     "data": {
      "text/plain": [
       "purpose\n",
       "Meeting    186\n",
       "Name: count, dtype: int64"
      ]
     },
     "execution_count": 44,
     "metadata": {},
     "output_type": "execute_result"
    }
   ],
   "source": [
    "#find most common trip purpose (excluding NaN values)\n",
    "\n",
    "df[df['purpose'].notna()]['purpose'].value_counts().head(1)"
   ]
  },
  {
   "cell_type": "code",
   "execution_count": 45,
   "id": "2eed34c7-4218-46c2-ae9d-ac837696eab5",
   "metadata": {},
   "outputs": [],
   "source": [
    "df['month'] = df['start_date'].dt.month_name()"
   ]
  },
  {
   "cell_type": "code",
   "execution_count": 46,
   "id": "c33d9231-51a0-45c1-8b73-a05d020fdcb8",
   "metadata": {},
   "outputs": [
    {
     "data": {
      "text/html": [
       "<div>\n",
       "<style scoped>\n",
       "    .dataframe tbody tr th:only-of-type {\n",
       "        vertical-align: middle;\n",
       "    }\n",
       "\n",
       "    .dataframe tbody tr th {\n",
       "        vertical-align: top;\n",
       "    }\n",
       "\n",
       "    .dataframe thead th {\n",
       "        text-align: right;\n",
       "    }\n",
       "</style>\n",
       "<table border=\"1\" class=\"dataframe\">\n",
       "  <thead>\n",
       "    <tr style=\"text-align: right;\">\n",
       "      <th></th>\n",
       "      <th>start_date</th>\n",
       "      <th>end_date</th>\n",
       "      <th>category</th>\n",
       "      <th>start</th>\n",
       "      <th>stop</th>\n",
       "      <th>miles</th>\n",
       "      <th>purpose</th>\n",
       "      <th>trip</th>\n",
       "      <th>month</th>\n",
       "    </tr>\n",
       "  </thead>\n",
       "  <tbody>\n",
       "    <tr>\n",
       "      <th>0</th>\n",
       "      <td>2016-01-01 21:11:00</td>\n",
       "      <td>2016-01-01 21:17:00</td>\n",
       "      <td>Business</td>\n",
       "      <td>Fort Pierce</td>\n",
       "      <td>Fort Pierce</td>\n",
       "      <td>5.1</td>\n",
       "      <td>Meal/Entertain</td>\n",
       "      <td>Fort Pierce-Fort Pierce</td>\n",
       "      <td>January</td>\n",
       "    </tr>\n",
       "    <tr>\n",
       "      <th>1</th>\n",
       "      <td>2016-01-02 01:25:00</td>\n",
       "      <td>2016-01-02 01:37:00</td>\n",
       "      <td>Business</td>\n",
       "      <td>Fort Pierce</td>\n",
       "      <td>Fort Pierce</td>\n",
       "      <td>5.0</td>\n",
       "      <td>NaN</td>\n",
       "      <td>Fort Pierce-Fort Pierce</td>\n",
       "      <td>January</td>\n",
       "    </tr>\n",
       "    <tr>\n",
       "      <th>2</th>\n",
       "      <td>2016-01-02 20:25:00</td>\n",
       "      <td>2016-01-02 20:38:00</td>\n",
       "      <td>Business</td>\n",
       "      <td>Fort Pierce</td>\n",
       "      <td>Fort Pierce</td>\n",
       "      <td>4.8</td>\n",
       "      <td>Errand/Supplies</td>\n",
       "      <td>Fort Pierce-Fort Pierce</td>\n",
       "      <td>January</td>\n",
       "    </tr>\n",
       "    <tr>\n",
       "      <th>3</th>\n",
       "      <td>2016-01-05 17:31:00</td>\n",
       "      <td>2016-01-05 17:45:00</td>\n",
       "      <td>Business</td>\n",
       "      <td>Fort Pierce</td>\n",
       "      <td>Fort Pierce</td>\n",
       "      <td>4.7</td>\n",
       "      <td>Meeting</td>\n",
       "      <td>Fort Pierce-Fort Pierce</td>\n",
       "      <td>January</td>\n",
       "    </tr>\n",
       "    <tr>\n",
       "      <th>4</th>\n",
       "      <td>2016-01-06 14:42:00</td>\n",
       "      <td>2016-01-06 15:49:00</td>\n",
       "      <td>Business</td>\n",
       "      <td>Fort Pierce</td>\n",
       "      <td>West Palm Beach</td>\n",
       "      <td>63.7</td>\n",
       "      <td>Customer Visit</td>\n",
       "      <td>Fort Pierce-West Palm Beach</td>\n",
       "      <td>January</td>\n",
       "    </tr>\n",
       "  </tbody>\n",
       "</table>\n",
       "</div>"
      ],
      "text/plain": [
       "           start_date            end_date  category        start  \\\n",
       "0 2016-01-01 21:11:00 2016-01-01 21:17:00  Business  Fort Pierce   \n",
       "1 2016-01-02 01:25:00 2016-01-02 01:37:00  Business  Fort Pierce   \n",
       "2 2016-01-02 20:25:00 2016-01-02 20:38:00  Business  Fort Pierce   \n",
       "3 2016-01-05 17:31:00 2016-01-05 17:45:00  Business  Fort Pierce   \n",
       "4 2016-01-06 14:42:00 2016-01-06 15:49:00  Business  Fort Pierce   \n",
       "\n",
       "              stop  miles          purpose                         trip  \\\n",
       "0      Fort Pierce    5.1   Meal/Entertain      Fort Pierce-Fort Pierce   \n",
       "1      Fort Pierce    5.0              NaN      Fort Pierce-Fort Pierce   \n",
       "2      Fort Pierce    4.8  Errand/Supplies      Fort Pierce-Fort Pierce   \n",
       "3      Fort Pierce    4.7          Meeting      Fort Pierce-Fort Pierce   \n",
       "4  West Palm Beach   63.7   Customer Visit  Fort Pierce-West Palm Beach   \n",
       "\n",
       "     month  \n",
       "0  January  \n",
       "1  January  \n",
       "2  January  \n",
       "3  January  \n",
       "4  January  "
      ]
     },
     "execution_count": 46,
     "metadata": {},
     "output_type": "execute_result"
    }
   ],
   "source": [
    "df.head()"
   ]
  },
  {
   "cell_type": "code",
   "execution_count": 48,
   "id": "63a1ef85-4109-4b8b-a923-ac15093f3821",
   "metadata": {},
   "outputs": [
    {
     "data": {
      "text/plain": [
       "month\n",
       "December     146\n",
       "August       133\n",
       "November     122\n",
       "February     115\n",
       "March        113\n",
       "July         112\n",
       "June         107\n",
       "October      106\n",
       "January       61\n",
       "April         54\n",
       "May           49\n",
       "September     36\n",
       "Name: count, dtype: int64"
      ]
     },
     "execution_count": 48,
     "metadata": {},
     "output_type": "execute_result"
    }
   ],
   "source": [
    "df['month'].value_counts()"
   ]
  },
  {
   "cell_type": "code",
   "execution_count": 49,
   "id": "552c3648-97d5-422c-9ae5-a4889e94c674",
   "metadata": {},
   "outputs": [
    {
     "data": {
      "text/plain": [
       "array(['Business', 'Personal'], dtype=object)"
      ]
     },
     "execution_count": 49,
     "metadata": {},
     "output_type": "execute_result"
    }
   ],
   "source": [
    "df['category'].unique()"
   ]
  },
  {
   "cell_type": "code",
   "execution_count": 52,
   "id": "5694b906-6ba4-4d3d-ac4c-462fbbb315cb",
   "metadata": {},
   "outputs": [
    {
     "data": {
      "text/plain": [
       "category\n",
       "Business    1077\n",
       "Personal      77\n",
       "Name: category, dtype: int64"
      ]
     },
     "execution_count": 52,
     "metadata": {},
     "output_type": "execute_result"
    }
   ],
   "source": [
    "df.groupby(\"category\")['category'].count()"
   ]
  },
  {
   "cell_type": "code",
   "execution_count": 53,
   "id": "dd6dd9d3-b2ae-4491-ab81-819fa312c8f0",
   "metadata": {},
   "outputs": [],
   "source": [
    "df['duration'] = df['end_date'] - df['start_date']"
   ]
  },
  {
   "cell_type": "code",
   "execution_count": 56,
   "id": "33394d7b-1ff1-4755-8725-240f557d5505",
   "metadata": {},
   "outputs": [
    {
     "data": {
      "text/plain": [
       "Timedelta('0 days 00:23:14.506065857')"
      ]
     },
     "execution_count": 56,
     "metadata": {},
     "output_type": "execute_result"
    }
   ],
   "source": [
    "df['duration'].mean()"
   ]
  },
  {
   "cell_type": "code",
   "execution_count": 57,
   "id": "ee30c5cb-0dc6-4235-ae67-a15016fffa0a",
   "metadata": {},
   "outputs": [
    {
     "data": {
      "text/plain": [
       "502"
      ]
     },
     "execution_count": 57,
     "metadata": {},
     "output_type": "execute_result"
    }
   ],
   "source": [
    "#Percentage of trips having missing purpose values\n",
    "\n",
    "df['purpose'].isna().sum()"
   ]
  },
  {
   "cell_type": "code",
   "execution_count": 58,
   "id": "9c9fc5e7-d8c2-4eee-a9bb-c68e07bd2304",
   "metadata": {},
   "outputs": [],
   "source": [
    "df['week name'] = df['start_date'].dt.day_name()"
   ]
  },
  {
   "cell_type": "code",
   "execution_count": 59,
   "id": "0e7c7fe8-9844-4b3e-96b4-3cfa6a1bed9d",
   "metadata": {},
   "outputs": [
    {
     "data": {
      "text/plain": [
       "week name\n",
       "Friday       206\n",
       "Tuesday      175\n",
       "Monday       174\n",
       "Thursday     154\n",
       "Saturday     150\n",
       "Sunday       148\n",
       "Wednesday    147\n",
       "Name: count, dtype: int64"
      ]
     },
     "execution_count": 59,
     "metadata": {},
     "output_type": "execute_result"
    }
   ],
   "source": [
    "df['week name'].value_counts()"
   ]
  },
  {
   "cell_type": "code",
   "execution_count": 61,
   "id": "a2858913-6646-4223-b077-87517d727c97",
   "metadata": {},
   "outputs": [
    {
     "data": {
      "text/html": [
       "<div>\n",
       "<style scoped>\n",
       "    .dataframe tbody tr th:only-of-type {\n",
       "        vertical-align: middle;\n",
       "    }\n",
       "\n",
       "    .dataframe tbody tr th {\n",
       "        vertical-align: top;\n",
       "    }\n",
       "\n",
       "    .dataframe thead th {\n",
       "        text-align: right;\n",
       "    }\n",
       "</style>\n",
       "<table border=\"1\" class=\"dataframe\">\n",
       "  <thead>\n",
       "    <tr style=\"text-align: right;\">\n",
       "      <th></th>\n",
       "      <th>sum</th>\n",
       "      <th>mean</th>\n",
       "    </tr>\n",
       "    <tr>\n",
       "      <th>purpose</th>\n",
       "      <th></th>\n",
       "      <th></th>\n",
       "    </tr>\n",
       "  </thead>\n",
       "  <tbody>\n",
       "    <tr>\n",
       "      <th>Meeting</th>\n",
       "      <td>2841.4</td>\n",
       "      <td>15.28</td>\n",
       "    </tr>\n",
       "    <tr>\n",
       "      <th>Customer Visit</th>\n",
       "      <td>2089.5</td>\n",
       "      <td>20.69</td>\n",
       "    </tr>\n",
       "    <tr>\n",
       "      <th>Meal/Entertain</th>\n",
       "      <td>911.7</td>\n",
       "      <td>5.70</td>\n",
       "    </tr>\n",
       "    <tr>\n",
       "      <th>Temporary Site</th>\n",
       "      <td>523.7</td>\n",
       "      <td>10.47</td>\n",
       "    </tr>\n",
       "    <tr>\n",
       "      <th>Errand/Supplies</th>\n",
       "      <td>508.0</td>\n",
       "      <td>3.97</td>\n",
       "    </tr>\n",
       "    <tr>\n",
       "      <th>Between Offices</th>\n",
       "      <td>197.0</td>\n",
       "      <td>10.94</td>\n",
       "    </tr>\n",
       "    <tr>\n",
       "      <th>Commute</th>\n",
       "      <td>180.2</td>\n",
       "      <td>180.20</td>\n",
       "    </tr>\n",
       "    <tr>\n",
       "      <th>Moving</th>\n",
       "      <td>18.2</td>\n",
       "      <td>4.55</td>\n",
       "    </tr>\n",
       "    <tr>\n",
       "      <th>Airport/Travel</th>\n",
       "      <td>16.5</td>\n",
       "      <td>5.50</td>\n",
       "    </tr>\n",
       "    <tr>\n",
       "      <th>Charity ($)</th>\n",
       "      <td>15.1</td>\n",
       "      <td>15.10</td>\n",
       "    </tr>\n",
       "  </tbody>\n",
       "</table>\n",
       "</div>"
      ],
      "text/plain": [
       "                    sum    mean\n",
       "purpose                        \n",
       "Meeting          2841.4   15.28\n",
       "Customer Visit   2089.5   20.69\n",
       "Meal/Entertain    911.7    5.70\n",
       "Temporary Site    523.7   10.47\n",
       "Errand/Supplies   508.0    3.97\n",
       "Between Offices   197.0   10.94\n",
       "Commute           180.2  180.20\n",
       "Moving             18.2    4.55\n",
       "Airport/Travel     16.5    5.50\n",
       "Charity ($)        15.1   15.10"
      ]
     },
     "execution_count": 61,
     "metadata": {},
     "output_type": "execute_result"
    }
   ],
   "source": [
    "#total and avg distance traveled per purpose type\n",
    "\n",
    "df.groupby(\"purpose\")['miles'].agg(['sum','mean']).round(2).sort_values(by='sum',ascending=False)"
   ]
  },
  {
   "cell_type": "code",
   "execution_count": 62,
   "id": "563b6e3b-7967-49e8-9167-b2fcf43ee9f8",
   "metadata": {},
   "outputs": [],
   "source": [
    "df['month number'] = df['start_date'].dt.month"
   ]
  },
  {
   "cell_type": "code",
   "execution_count": 63,
   "id": "5086762d-4a18-4c16-a424-59304a5998ea",
   "metadata": {},
   "outputs": [],
   "source": [
    "trip = df.groupby(\"month number\")['month number'].count()"
   ]
  },
  {
   "cell_type": "code",
   "execution_count": 64,
   "id": "e2f45e45-5fb0-484e-9610-f26aa8da2a1c",
   "metadata": {},
   "outputs": [],
   "source": [
    "trip = pd.DataFrame(trip)"
   ]
  },
  {
   "cell_type": "code",
   "execution_count": 66,
   "id": "81e914f3-6e5f-4c5c-b791-5dd16e291dba",
   "metadata": {},
   "outputs": [],
   "source": [
    "trip['prv_month'] = trip.shift(1)"
   ]
  },
  {
   "cell_type": "code",
   "execution_count": 67,
   "id": "7a96c44f-d882-4f6c-85de-b8c17336a884",
   "metadata": {},
   "outputs": [],
   "source": [
    "trip.rename(columns={\"month number\":\"current month\"},inplace=True)"
   ]
  },
  {
   "cell_type": "code",
   "execution_count": 69,
   "id": "50e6aaf0-30b2-448b-8a72-0a4057e58609",
   "metadata": {},
   "outputs": [],
   "source": [
    "trip['change'] = trip['current month'] - trip['prv_month']"
   ]
  },
  {
   "cell_type": "code",
   "execution_count": 71,
   "id": "22a04036-f927-42f8-af84-e2ffdebfbdae",
   "metadata": {},
   "outputs": [
    {
     "data": {
      "text/plain": [
       "<Axes: xlabel='month number'>"
      ]
     },
     "execution_count": 71,
     "metadata": {},
     "output_type": "execute_result"
    },
    {
     "data": {
      "image/png": "[encoded data removed]",
      "text/plain": [
       "<Figure size 640x480 with 1 Axes>"
      ]
     },
     "metadata": {},
     "output_type": "display_data"
    }
   ],
   "source": [
    "trip['change'].plot()"
   ]
  },
  {
   "cell_type": "code",
   "execution_count": 72,
   "id": "5d79bbb2-2f01-4a1d-af14-0457cb2e469a",
   "metadata": {},
   "outputs": [],
   "source": [
    "df['hours'] = df['start_date'].dt.hour"
   ]
  },
  {
   "cell_type": "code",
   "execution_count": 73,
   "id": "d5901d93-6232-4a89-b24b-7865f135ef1b",
   "metadata": {},
   "outputs": [
    {
     "data": {
      "text/html": [
       "<div>\n",
       "<style scoped>\n",
       "    .dataframe tbody tr th:only-of-type {\n",
       "        vertical-align: middle;\n",
       "    }\n",
       "\n",
       "    .dataframe tbody tr th {\n",
       "        vertical-align: top;\n",
       "    }\n",
       "\n",
       "    .dataframe thead th {\n",
       "        text-align: right;\n",
       "    }\n",
       "</style>\n",
       "<table border=\"1\" class=\"dataframe\">\n",
       "  <thead>\n",
       "    <tr style=\"text-align: right;\">\n",
       "      <th></th>\n",
       "      <th>start_date</th>\n",
       "      <th>end_date</th>\n",
       "      <th>category</th>\n",
       "      <th>start</th>\n",
       "      <th>stop</th>\n",
       "      <th>miles</th>\n",
       "      <th>purpose</th>\n",
       "      <th>trip</th>\n",
       "      <th>month</th>\n",
       "      <th>duration</th>\n",
       "      <th>week name</th>\n",
       "      <th>month number</th>\n",
       "      <th>hours</th>\n",
       "    </tr>\n",
       "  </thead>\n",
       "  <tbody>\n",
       "    <tr>\n",
       "      <th>0</th>\n",
       "      <td>2016-01-01 21:11:00</td>\n",
       "      <td>2016-01-01 21:17:00</td>\n",
       "      <td>Business</td>\n",
       "      <td>Fort Pierce</td>\n",
       "      <td>Fort Pierce</td>\n",
       "      <td>5.1</td>\n",
       "      <td>Meal/Entertain</td>\n",
       "      <td>Fort Pierce-Fort Pierce</td>\n",
       "      <td>January</td>\n",
       "      <td>0 days 00:06:00</td>\n",
       "      <td>Friday</td>\n",
       "      <td>1</td>\n",
       "      <td>21</td>\n",
       "    </tr>\n",
       "    <tr>\n",
       "      <th>1</th>\n",
       "      <td>2016-01-02 01:25:00</td>\n",
       "      <td>2016-01-02 01:37:00</td>\n",
       "      <td>Business</td>\n",
       "      <td>Fort Pierce</td>\n",
       "      <td>Fort Pierce</td>\n",
       "      <td>5.0</td>\n",
       "      <td>NaN</td>\n",
       "      <td>Fort Pierce-Fort Pierce</td>\n",
       "      <td>January</td>\n",
       "      <td>0 days 00:12:00</td>\n",
       "      <td>Saturday</td>\n",
       "      <td>1</td>\n",
       "      <td>1</td>\n",
       "    </tr>\n",
       "    <tr>\n",
       "      <th>2</th>\n",
       "      <td>2016-01-02 20:25:00</td>\n",
       "      <td>2016-01-02 20:38:00</td>\n",
       "      <td>Business</td>\n",
       "      <td>Fort Pierce</td>\n",
       "      <td>Fort Pierce</td>\n",
       "      <td>4.8</td>\n",
       "      <td>Errand/Supplies</td>\n",
       "      <td>Fort Pierce-Fort Pierce</td>\n",
       "      <td>January</td>\n",
       "      <td>0 days 00:13:00</td>\n",
       "      <td>Saturday</td>\n",
       "      <td>1</td>\n",
       "      <td>20</td>\n",
       "    </tr>\n",
       "    <tr>\n",
       "      <th>3</th>\n",
       "      <td>2016-01-05 17:31:00</td>\n",
       "      <td>2016-01-05 17:45:00</td>\n",
       "      <td>Business</td>\n",
       "      <td>Fort Pierce</td>\n",
       "      <td>Fort Pierce</td>\n",
       "      <td>4.7</td>\n",
       "      <td>Meeting</td>\n",
       "      <td>Fort Pierce-Fort Pierce</td>\n",
       "      <td>January</td>\n",
       "      <td>0 days 00:14:00</td>\n",
       "      <td>Tuesday</td>\n",
       "      <td>1</td>\n",
       "      <td>17</td>\n",
       "    </tr>\n",
       "    <tr>\n",
       "      <th>4</th>\n",
       "      <td>2016-01-06 14:42:00</td>\n",
       "      <td>2016-01-06 15:49:00</td>\n",
       "      <td>Business</td>\n",
       "      <td>Fort Pierce</td>\n",
       "      <td>West Palm Beach</td>\n",
       "      <td>63.7</td>\n",
       "      <td>Customer Visit</td>\n",
       "      <td>Fort Pierce-West Palm Beach</td>\n",
       "      <td>January</td>\n",
       "      <td>0 days 01:07:00</td>\n",
       "      <td>Wednesday</td>\n",
       "      <td>1</td>\n",
       "      <td>14</td>\n",
       "    </tr>\n",
       "  </tbody>\n",
       "</table>\n",
       "</div>"
      ],
      "text/plain": [
       "           start_date            end_date  category        start  \\\n",
       "0 2016-01-01 21:11:00 2016-01-01 21:17:00  Business  Fort Pierce   \n",
       "1 2016-01-02 01:25:00 2016-01-02 01:37:00  Business  Fort Pierce   \n",
       "2 2016-01-02 20:25:00 2016-01-02 20:38:00  Business  Fort Pierce   \n",
       "3 2016-01-05 17:31:00 2016-01-05 17:45:00  Business  Fort Pierce   \n",
       "4 2016-01-06 14:42:00 2016-01-06 15:49:00  Business  Fort Pierce   \n",
       "\n",
       "              stop  miles          purpose                         trip  \\\n",
       "0      Fort Pierce    5.1   Meal/Entertain      Fort Pierce-Fort Pierce   \n",
       "1      Fort Pierce    5.0              NaN      Fort Pierce-Fort Pierce   \n",
       "2      Fort Pierce    4.8  Errand/Supplies      Fort Pierce-Fort Pierce   \n",
       "3      Fort Pierce    4.7          Meeting      Fort Pierce-Fort Pierce   \n",
       "4  West Palm Beach   63.7   Customer Visit  Fort Pierce-West Palm Beach   \n",
       "\n",
       "     month        duration  week name  month number  hours  \n",
       "0  January 0 days 00:06:00     Friday             1     21  \n",
       "1  January 0 days 00:12:00   Saturday             1      1  \n",
       "2  January 0 days 00:13:00   Saturday             1     20  \n",
       "3  January 0 days 00:14:00    Tuesday             1     17  \n",
       "4  January 0 days 01:07:00  Wednesday             1     14  "
      ]
     },
     "execution_count": 73,
     "metadata": {},
     "output_type": "execute_result"
    }
   ],
   "source": [
    "df.head()"
   ]
  },
  {
   "cell_type": "code",
   "execution_count": 75,
   "id": "ab575307-bbe9-438e-8b20-2008a869ed59",
   "metadata": {},
   "outputs": [],
   "source": [
    "def cal_hour(hour):\n",
    "    if hour > 5 and hour < 12:\n",
    "        return \"Morning\"\n",
    "    elif hour >= 12 and hour < 17:\n",
    "        return \"Afternoon\"\n",
    "    elif hour >= 17 and hour < 21:\n",
    "        return \"Evening\"\n",
    "    else:\n",
    "        return \"Night\""
   ]
  },
  {
   "cell_type": "code",
   "execution_count": 76,
   "id": "8e3a6261-d870-4c77-82ff-f4a83f962f63",
   "metadata": {},
   "outputs": [],
   "source": [
    "df['time of day'] = df['hours'].apply(cal_hour)"
   ]
  },
  {
   "cell_type": "code",
   "execution_count": 78,
   "id": "d2104899-82c3-4ba8-9cc8-32fdad0d0f69",
   "metadata": {},
   "outputs": [
    {
     "data": {
      "text/plain": [
       "time of day\n",
       "Afternoon    446\n",
       "Evening      328\n",
       "Morning      240\n",
       "Night        140\n",
       "Name: count, dtype: int64"
      ]
     },
     "execution_count": 78,
     "metadata": {},
     "output_type": "execute_result"
    }
   ],
   "source": [
    "df['time of day'].value_counts()"
   ]
  },
  {
   "cell_type": "code",
   "execution_count": 80,
   "id": "addd2d59-4587-43d6-9495-3be28c87d7e4",
   "metadata": {},
   "outputs": [
    {
     "data": {
      "text/plain": [
       "<Axes: xlabel='hours', ylabel='Count'>"
      ]
     },
     "execution_count": 80,
     "metadata": {},
     "output_type": "execute_result"
    },
    {
     "data": {
      "image/png": "[encoded data removed]",
      "text/plain": [
       "<Figure size 640x480 with 1 Axes>"
      ]
     },
     "metadata": {},
     "output_type": "display_data"
    }
   ],
   "source": [
    "#most active hours for trips\n",
    "\n",
    "sns.histplot(x=df['hours'],kde=True)"
   ]
  },
  {
   "cell_type": "code",
   "execution_count": 81,
   "id": "6253cfc0-7aec-4233-9364-9a8a01caef78",
   "metadata": {},
   "outputs": [
    {
     "data": {
      "text/plain": [
       "purpose\n",
       "Commute            180.20\n",
       "Customer Visit      20.69\n",
       "Meeting             15.28\n",
       "Charity ($)         15.10\n",
       "Between Offices     10.94\n",
       "Temporary Site      10.47\n",
       "Meal/Entertain       5.70\n",
       "Airport/Travel       5.50\n",
       "Moving               4.55\n",
       "Errand/Supplies      3.97\n",
       "Name: miles, dtype: float64"
      ]
     },
     "execution_count": 81,
     "metadata": {},
     "output_type": "execute_result"
    }
   ],
   "source": [
    "df.groupby(\"purpose\")['miles'].mean().round(2).sort_values(ascending=False)"
   ]
  },
  {
   "cell_type": "code",
   "execution_count": 82,
   "id": "eaaad10e-649e-4f6a-b902-2a2480628d89",
   "metadata": {},
   "outputs": [
    {
     "data": {
      "text/plain": [
       "<Axes: xlabel='miles'>"
      ]
     },
     "execution_count": 82,
     "metadata": {},
     "output_type": "execute_result"
    },
    {
     "data": {
      "image/png": "[encoded data removed]",
      "text/plain": [
       "<Figure size 640x480 with 1 Axes>"
      ]
     },
     "metadata": {},
     "output_type": "display_data"
    }
   ],
   "source": [
    "#Are there any outlier trips?\n",
    "\n",
    "sns.boxplot(x=df['miles'])"
   ]
  },
  {
   "cell_type": "code",
   "execution_count": 83,
   "id": "8c537b06-0e83-489c-aa5b-877a2b3563ca",
   "metadata": {},
   "outputs": [
    {
     "data": {
      "text/plain": [
       "<Axes: xlabel='miles', ylabel='Count'>"
      ]
     },
     "execution_count": 83,
     "metadata": {},
     "output_type": "execute_result"
    },
    {
     "data": {
      "image/png": "[encoded data removed]",
      "text/plain": [
       "<Figure size 640x480 with 1 Axes>"
      ]
     },
     "metadata": {},
     "output_type": "display_data"
    }
   ],
   "source": [
    "sns.histplot(x=df['miles'])"
   ]
  },
  {
   "cell_type": "code",
   "execution_count": 84,
   "id": "05884713-0ebe-4852-bfa4-7cb10b7aabc6",
   "metadata": {},
   "outputs": [],
   "source": [
    "q1 = df['miles'].quantile(0.25)"
   ]
  },
  {
   "cell_type": "code",
   "execution_count": 85,
   "id": "56a551d4-9ab4-4203-9938-923ef70e216c",
   "metadata": {},
   "outputs": [],
   "source": [
    "q3 = df['miles'].quantile(0.75)"
   ]
  },
  {
   "cell_type": "code",
   "execution_count": 86,
   "id": "5b18eb93-c0e9-46e8-960f-3260ec937170",
   "metadata": {},
   "outputs": [],
   "source": [
    "iqr = q3 - q1"
   ]
  },
  {
   "cell_type": "code",
   "execution_count": 87,
   "id": "4eb8f670-d5be-4f97-b92a-79d36e695b97",
   "metadata": {},
   "outputs": [],
   "source": [
    "ub = q3 + iqr*1.5"
   ]
  },
  {
   "cell_type": "code",
   "execution_count": 88,
   "id": "c757d165-3b8b-477e-8354-6b32f706c463",
   "metadata": {},
   "outputs": [
    {
     "data": {
      "text/plain": [
       "21.65"
      ]
     },
     "execution_count": 88,
     "metadata": {},
     "output_type": "execute_result"
    }
   ],
   "source": [
    "ub"
   ]
  },
  {
   "cell_type": "code",
   "execution_count": 90,
   "id": "e315170c-cdb0-4738-b551-4b6343d472f3",
   "metadata": {},
   "outputs": [
    {
     "data": {
      "text/plain": [
       "77"
      ]
     },
     "execution_count": 90,
     "metadata": {},
     "output_type": "execute_result"
    }
   ],
   "source": [
    "(df['miles'] > ub).sum()"
   ]
  },
  {
   "cell_type": "code",
   "execution_count": 91,
   "id": "a5cc28cf-bc19-44eb-9c27-d09c02a14b4f",
   "metadata": {},
   "outputs": [
    {
     "data": {
      "text/html": [
       "<div>\n",
       "<style scoped>\n",
       "    .dataframe tbody tr th:only-of-type {\n",
       "        vertical-align: middle;\n",
       "    }\n",
       "\n",
       "    .dataframe tbody tr th {\n",
       "        vertical-align: top;\n",
       "    }\n",
       "\n",
       "    .dataframe thead th {\n",
       "        text-align: right;\n",
       "    }\n",
       "</style>\n",
       "<table border=\"1\" class=\"dataframe\">\n",
       "  <thead>\n",
       "    <tr style=\"text-align: right;\">\n",
       "      <th></th>\n",
       "      <th>start_date</th>\n",
       "      <th>end_date</th>\n",
       "      <th>category</th>\n",
       "      <th>start</th>\n",
       "      <th>stop</th>\n",
       "      <th>miles</th>\n",
       "      <th>purpose</th>\n",
       "      <th>trip</th>\n",
       "      <th>month</th>\n",
       "      <th>duration</th>\n",
       "      <th>week name</th>\n",
       "      <th>month number</th>\n",
       "      <th>hours</th>\n",
       "      <th>time of day</th>\n",
       "    </tr>\n",
       "  </thead>\n",
       "  <tbody>\n",
       "    <tr>\n",
       "      <th>4</th>\n",
       "      <td>2016-01-06 14:42:00</td>\n",
       "      <td>2016-01-06 15:49:00</td>\n",
       "      <td>Business</td>\n",
       "      <td>Fort Pierce</td>\n",
       "      <td>West Palm Beach</td>\n",
       "      <td>63.7</td>\n",
       "      <td>Customer Visit</td>\n",
       "      <td>Fort Pierce-West Palm Beach</td>\n",
       "      <td>January</td>\n",
       "      <td>0 days 01:07:00</td>\n",
       "      <td>Wednesday</td>\n",
       "      <td>1</td>\n",
       "      <td>14</td>\n",
       "      <td>Afternoon</td>\n",
       "    </tr>\n",
       "    <tr>\n",
       "      <th>25</th>\n",
       "      <td>2016-01-14 16:29:00</td>\n",
       "      <td>2016-01-14 17:05:00</td>\n",
       "      <td>Business</td>\n",
       "      <td>Houston</td>\n",
       "      <td>Houston</td>\n",
       "      <td>21.9</td>\n",
       "      <td>Customer Visit</td>\n",
       "      <td>Houston-Houston</td>\n",
       "      <td>January</td>\n",
       "      <td>0 days 00:36:00</td>\n",
       "      <td>Thursday</td>\n",
       "      <td>1</td>\n",
       "      <td>16</td>\n",
       "      <td>Afternoon</td>\n",
       "    </tr>\n",
       "    <tr>\n",
       "      <th>36</th>\n",
       "      <td>2016-01-20 13:25:00</td>\n",
       "      <td>2016-01-20 14:19:00</td>\n",
       "      <td>Business</td>\n",
       "      <td>Raleigh</td>\n",
       "      <td>Cary</td>\n",
       "      <td>40.2</td>\n",
       "      <td>Customer Visit</td>\n",
       "      <td>Raleigh-Cary</td>\n",
       "      <td>January</td>\n",
       "      <td>0 days 00:54:00</td>\n",
       "      <td>Wednesday</td>\n",
       "      <td>1</td>\n",
       "      <td>13</td>\n",
       "      <td>Afternoon</td>\n",
       "    </tr>\n",
       "    <tr>\n",
       "      <th>62</th>\n",
       "      <td>2016-02-01 12:10:00</td>\n",
       "      <td>2016-02-01 12:43:00</td>\n",
       "      <td>Business</td>\n",
       "      <td>Chapel Hill</td>\n",
       "      <td>Cary</td>\n",
       "      <td>23.3</td>\n",
       "      <td>Customer Visit</td>\n",
       "      <td>Chapel Hill-Cary</td>\n",
       "      <td>February</td>\n",
       "      <td>0 days 00:33:00</td>\n",
       "      <td>Monday</td>\n",
       "      <td>2</td>\n",
       "      <td>12</td>\n",
       "      <td>Afternoon</td>\n",
       "    </tr>\n",
       "    <tr>\n",
       "      <th>108</th>\n",
       "      <td>2016-02-16 03:21:00</td>\n",
       "      <td>2016-02-16 04:13:00</td>\n",
       "      <td>Business</td>\n",
       "      <td>Katunayaka</td>\n",
       "      <td>Unknown Location</td>\n",
       "      <td>43.7</td>\n",
       "      <td>Customer Visit</td>\n",
       "      <td>Katunayaka-Unknown Location</td>\n",
       "      <td>February</td>\n",
       "      <td>0 days 00:52:00</td>\n",
       "      <td>Tuesday</td>\n",
       "      <td>2</td>\n",
       "      <td>3</td>\n",
       "      <td>Night</td>\n",
       "    </tr>\n",
       "    <tr>\n",
       "      <th>...</th>\n",
       "      <td>...</td>\n",
       "      <td>...</td>\n",
       "      <td>...</td>\n",
       "      <td>...</td>\n",
       "      <td>...</td>\n",
       "      <td>...</td>\n",
       "      <td>...</td>\n",
       "      <td>...</td>\n",
       "      <td>...</td>\n",
       "      <td>...</td>\n",
       "      <td>...</td>\n",
       "      <td>...</td>\n",
       "      <td>...</td>\n",
       "      <td>...</td>\n",
       "    </tr>\n",
       "    <tr>\n",
       "      <th>979</th>\n",
       "      <td>2016-11-20 10:27:00</td>\n",
       "      <td>2016-11-20 11:32:00</td>\n",
       "      <td>Business</td>\n",
       "      <td>Cary</td>\n",
       "      <td>Cary</td>\n",
       "      <td>39.2</td>\n",
       "      <td>Between Offices</td>\n",
       "      <td>Cary-Cary</td>\n",
       "      <td>November</td>\n",
       "      <td>0 days 01:05:00</td>\n",
       "      <td>Sunday</td>\n",
       "      <td>11</td>\n",
       "      <td>10</td>\n",
       "      <td>Morning</td>\n",
       "    </tr>\n",
       "    <tr>\n",
       "      <th>1088</th>\n",
       "      <td>2016-12-21 20:56:00</td>\n",
       "      <td>2016-12-21 23:42:00</td>\n",
       "      <td>Business</td>\n",
       "      <td>Rawalpindi</td>\n",
       "      <td>Unknown Location</td>\n",
       "      <td>103.0</td>\n",
       "      <td>Meeting</td>\n",
       "      <td>Rawalpindi-Unknown Location</td>\n",
       "      <td>December</td>\n",
       "      <td>0 days 02:46:00</td>\n",
       "      <td>Wednesday</td>\n",
       "      <td>12</td>\n",
       "      <td>20</td>\n",
       "      <td>Evening</td>\n",
       "    </tr>\n",
       "    <tr>\n",
       "      <th>1089</th>\n",
       "      <td>2016-12-22 15:40:00</td>\n",
       "      <td>2016-12-22 16:38:00</td>\n",
       "      <td>Business</td>\n",
       "      <td>Unknown Location</td>\n",
       "      <td>Unknown Location</td>\n",
       "      <td>32.3</td>\n",
       "      <td>Meeting</td>\n",
       "      <td>Unknown Location-Unknown Location</td>\n",
       "      <td>December</td>\n",
       "      <td>0 days 00:58:00</td>\n",
       "      <td>Thursday</td>\n",
       "      <td>12</td>\n",
       "      <td>15</td>\n",
       "      <td>Afternoon</td>\n",
       "    </tr>\n",
       "    <tr>\n",
       "      <th>1092</th>\n",
       "      <td>2016-12-22 17:56:00</td>\n",
       "      <td>2016-12-22 18:29:00</td>\n",
       "      <td>Business</td>\n",
       "      <td>Unknown Location</td>\n",
       "      <td>Unknown Location</td>\n",
       "      <td>23.2</td>\n",
       "      <td>Meeting</td>\n",
       "      <td>Unknown Location-Unknown Location</td>\n",
       "      <td>December</td>\n",
       "      <td>0 days 00:33:00</td>\n",
       "      <td>Thursday</td>\n",
       "      <td>12</td>\n",
       "      <td>17</td>\n",
       "      <td>Evening</td>\n",
       "    </tr>\n",
       "    <tr>\n",
       "      <th>1154</th>\n",
       "      <td>2016-12-31 22:08:00</td>\n",
       "      <td>2016-12-31 23:51:00</td>\n",
       "      <td>Business</td>\n",
       "      <td>Gampaha</td>\n",
       "      <td>Ilukwatta</td>\n",
       "      <td>48.2</td>\n",
       "      <td>Temporary Site</td>\n",
       "      <td>Gampaha-Ilukwatta</td>\n",
       "      <td>December</td>\n",
       "      <td>0 days 01:43:00</td>\n",
       "      <td>Saturday</td>\n",
       "      <td>12</td>\n",
       "      <td>22</td>\n",
       "      <td>Night</td>\n",
       "    </tr>\n",
       "  </tbody>\n",
       "</table>\n",
       "<p>77 rows × 14 columns</p>\n",
       "</div>"
      ],
      "text/plain": [
       "              start_date            end_date  category             start  \\\n",
       "4    2016-01-06 14:42:00 2016-01-06 15:49:00  Business       Fort Pierce   \n",
       "25   2016-01-14 16:29:00 2016-01-14 17:05:00  Business           Houston   \n",
       "36   2016-01-20 13:25:00 2016-01-20 14:19:00  Business           Raleigh   \n",
       "62   2016-02-01 12:10:00 2016-02-01 12:43:00  Business       Chapel Hill   \n",
       "108  2016-02-16 03:21:00 2016-02-16 04:13:00  Business        Katunayaka   \n",
       "...                  ...                 ...       ...               ...   \n",
       "979  2016-11-20 10:27:00 2016-11-20 11:32:00  Business              Cary   \n",
       "1088 2016-12-21 20:56:00 2016-12-21 23:42:00  Business        Rawalpindi   \n",
       "1089 2016-12-22 15:40:00 2016-12-22 16:38:00  Business  Unknown Location   \n",
       "1092 2016-12-22 17:56:00 2016-12-22 18:29:00  Business  Unknown Location   \n",
       "1154 2016-12-31 22:08:00 2016-12-31 23:51:00  Business           Gampaha   \n",
       "\n",
       "                  stop  miles          purpose  \\\n",
       "4      West Palm Beach   63.7   Customer Visit   \n",
       "25             Houston   21.9   Customer Visit   \n",
       "36                Cary   40.2   Customer Visit   \n",
       "62                Cary   23.3   Customer Visit   \n",
       "108   Unknown Location   43.7   Customer Visit   \n",
       "...                ...    ...              ...   \n",
       "979               Cary   39.2  Between Offices   \n",
       "1088  Unknown Location  103.0          Meeting   \n",
       "1089  Unknown Location   32.3          Meeting   \n",
       "1092  Unknown Location   23.2          Meeting   \n",
       "1154         Ilukwatta   48.2   Temporary Site   \n",
       "\n",
       "                                   trip     month        duration  week name  \\\n",
       "4           Fort Pierce-West Palm Beach   January 0 days 01:07:00  Wednesday   \n",
       "25                      Houston-Houston   January 0 days 00:36:00   Thursday   \n",
       "36                         Raleigh-Cary   January 0 days 00:54:00  Wednesday   \n",
       "62                     Chapel Hill-Cary  February 0 days 00:33:00     Monday   \n",
       "108         Katunayaka-Unknown Location  February 0 days 00:52:00    Tuesday   \n",
       "...                                 ...       ...             ...        ...   \n",
       "979                           Cary-Cary  November 0 days 01:05:00     Sunday   \n",
       "1088        Rawalpindi-Unknown Location  December 0 days 02:46:00  Wednesday   \n",
       "1089  Unknown Location-Unknown Location  December 0 days 00:58:00   Thursday   \n",
       "1092  Unknown Location-Unknown Location  December 0 days 00:33:00   Thursday   \n",
       "1154                  Gampaha-Ilukwatta  December 0 days 01:43:00   Saturday   \n",
       "\n",
       "      month number  hours time of day  \n",
       "4                1     14   Afternoon  \n",
       "25               1     16   Afternoon  \n",
       "36               1     13   Afternoon  \n",
       "62               2     12   Afternoon  \n",
       "108              2      3       Night  \n",
       "...            ...    ...         ...  \n",
       "979             11     10     Morning  \n",
       "1088            12     20     Evening  \n",
       "1089            12     15   Afternoon  \n",
       "1092            12     17     Evening  \n",
       "1154            12     22       Night  \n",
       "\n",
       "[77 rows x 14 columns]"
      ]
     },
     "execution_count": 91,
     "metadata": {},
     "output_type": "execute_result"
    }
   ],
   "source": [
    "df[df['miles'] > ub]"
   ]
  },
  {
   "cell_type": "code",
   "execution_count": null,
   "id": "0a845e29-9d4c-401f-af5c-877de0764cca",
   "metadata": {},
   "outputs": [],
   "source": []
  }
 ],
 "metadata": {
  "kernelspec": {
   "display_name": "Python [conda env:base] *",
   "language": "python",
   "name": "conda-base-py"
  },
  "language_info": {
   "codemirror_mode": {
    "name": "ipython",
    "version": 3
   },
   "file_extension": ".py",
   "mimetype": "text/x-python",
   "name": "python",
   "nbconvert_exporter": "python",
   "pygments_lexer": "ipython3",
   "version": "3.11.5"
  }
 },
 "nbformat": 4,
 "nbformat_minor": 5
}
